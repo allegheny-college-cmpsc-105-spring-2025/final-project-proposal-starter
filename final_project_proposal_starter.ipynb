{
  "cells": [
    {
      "cell_type": "markdown",
      "source": [
        "TODO: Click on the badge, then `Copy to Drive` before continuing."
      ],
      "metadata": {
        "id": "ClLOQpK1CBWZ"
      }
    },
    {
      "cell_type": "markdown",
      "source": [
        "\n",
        "TODO: double click and replace this text with your name"
      ],
      "metadata": {
        "id": "4aTYdKaRCAQs"
      }
    },
    {
      "cell_type": "markdown",
      "source": [
        "[![Open In Colab](https://colab.research.google.com/assets/colab-badge.svg)](https://githubtocolab.com/allegheny-college-cmpsc-105-spring-2025/data-wrangling-starter/blob/main/final_project_proposal_starter.ipynb)"
      ],
      "metadata": {
        "id": "3CSdVdx2B7hN"
      }
    },
    {
      "cell_type": "markdown",
      "source": [
        "# Proposal for Final Project"
      ],
      "metadata": {
        "id": "1hhICbQ4jr9k"
      }
    },
    {
      "cell_type": "markdown",
      "source": [
        "The CMPSC 105 Data Structures Final Presentations are May 1, at 7pm.\n",
        "\n",
        "For this lab, please brainstorm about what you would like to do for your final project.\n",
        "\n",
        "Ideally the topic should be something of personal interest to you.\n",
        "\n",
        "The amount of work should be equivalent to 3-4 labs. Some extra time will be given to working on final projects during class in week 14.\n",
        "\n",
        "## Goals\n",
        "\n",
        "Your goals for this lab are:\n",
        "\n",
        "- create a project proposal report for a project that will be complete by the end of the semester and presented in a five-minute lightning talk during the final exam period\n",
        "- create aspirational figures to guide your thought process and express the outcomes you expect before you explore any real data.\n",
        "\n",
        "Don't forget to answer all `T O D O` markers and to remove the markers.\n",
        "\n",
        "## Deadline\n",
        "\n",
        "This lab should be completed during the lab meeting time, but modifations may be made until the official deadline of 2:30pm on April 3.\n",
        "\n",
        "## Learning Outcomes\n",
        "\n",
        "By completing this lab you will\n",
        "\n",
        "- mock up data aquisition\n",
        "- mock up methods\n",
        "- mock up data display\n",
        "- express expected results\n",
        "\n",
        "## Reminders\n",
        "\n",
        "- If needed, one of four available automatic extension **tokens** can be applied by using the form on the course syllabus.\n",
        "- If you have a question, post in the 105 Discord channel.\n",
        "- Refer to previous materials to learn how to use Notebooks in Google Colab, make your work accessible, submit, and check your work.\n",
        "\n",
        "## Saving Your Work\n",
        "\n",
        "Saving your work and making it accessible is a required part of all labs.\n",
        "\n",
        "### Accessability Part 1\n",
        "\n",
        "Update the Colab filename to be `final_project_proposal.ipynb`.\n",
        "\n",
        "Make sure that all cells have been executed and are SHOWING their outputs.\n",
        "\n",
        "### Saving\n",
        "\n",
        "I would recommend a workflow of `Copy to Drive --> editing/running/testing --> downloading`. You should have already hit `Copy to Drive`, but if you haven't, then please do so now. Then go ahead and download the file from the menu at the top of the Colab interface. File > Download > Download ipynb\n",
        "\n",
        "### Accessibility Part 2\n",
        "\n",
        "If you are satisfied with your work, you can now upload the downloaded file to your GitHub repo!\n",
        "\n",
        "- Use GitHub to upload the file.\n",
        "  - Next to the green code button in GitHub, you will see an `add file` button. Click that, then choose the downloaded notebook from your computer.\n",
        "\n",
        "## Checking Your Work\n",
        "\n",
        "### Check your file output\n",
        "\n",
        "Once your file is uploaded, please open it on GitHub. All the outputs and plots should be showing. If they are not showing, this means that not all code cells were executed before you downloaded your file.\n",
        "\n",
        "### Check GitHub Actions\n",
        "\n",
        "In GitHub, go to the Actions tab. Click on the top Action to see a report about your T O D Os. If the T O D Os have been done and deleted, then the actions will show that gatorgrade reports 100%. This is not your grade, but it is a good indication that you did not forget to do something.\n",
        "\n",
        "If you see remaining T O D Os, then you may want to edit and update your file."
      ],
      "metadata": {
        "id": "hnptErUoAnkF"
      }
    },
    {
      "cell_type": "markdown",
      "source": [
        "## Getting Started"
      ],
      "metadata": {
        "id": "qCudyT3axBkJ"
      }
    },
    {
      "cell_type": "markdown",
      "source": [
        "Below are suggested steps to follow to develop your proposal. The answers should be organized and stated below in the report.\n",
        "\n",
        "- Identify the subject area that you want to study\n",
        "- Think of a main question that you want to answer\n",
        "- Back out at least two supporting questions that would have to be answered first in order to answer the main question\n",
        "- Back out what the raw data will have to look like\n",
        "- What columns will you need?\n",
        "- Make a plan to gather or otherwise obtain the raw data needed\n",
        "  - Scraping? pre-existing? anonymous feedback survey?\n",
        "  - [Some data sources](https://docs.google.com/spreadsheets/d/1uliFBPpcPtAoBczaGXCLgI00mMh7fUdTaObcTEnTtgw/edit?usp=sharing)\n",
        "- What pre-processing (wrangling) and processing steps will you need to do? Filtering? Averaging?\n",
        "- Make fake plots that describe your expected results\n",
        "  - I recommend sketching on paper first\n",
        "  - Then make them in matplotlib with fake data\n",
        "- Find and read one scholarly article that relates to your topic/methods/expected results"
      ],
      "metadata": {
        "id": "5zmrY3Uebzae"
      }
    },
    {
      "cell_type": "markdown",
      "source": [
        "# Report Proposal"
      ],
      "metadata": {
        "id": "DasJE_AmUkZ9"
      }
    },
    {
      "cell_type": "markdown",
      "source": [
        "\n",
        "- back out what the raw data will have to look like\n",
        "- what columns will you need?\n",
        "- make a plan to gather or otherwise obtain the raw data needed\n",
        "  - scraping? pre-existing? anonymous feedback survey?\n",
        "  - [some data sources](https://docs.google.com/spreadsheets/d/1uliFBPpcPtAoBczaGXCLgI00mMh7fUdTaObcTEnTtgw/edit?usp=sharing)\n",
        "- make fake plots that describe your expected results\n",
        "  - first do this on paper\n",
        "  - the make them in matplotlib with fake data\n",
        "\n",
        "### What is your project going to be about\n",
        "\n",
        "TODO: Briefly summarize what you will do at a high level.\n",
        "\n",
        "TODO: What is the main research question?\n",
        "\n",
        "TODO: What are supporting questions that you will have to answer in order to answer the main research question?\n",
        "\n",
        "### Methods\n",
        "\n",
        "TODO: What data will you need, and how will you get it? Be as detailed as you can.\n",
        "\n",
        "TODO: How will you process the data?\n",
        "\n",
        "NOTE: It is not sufficient to just explore raw data. The data must be processed, i.e. filtered, averaged, filtered and averaged, compared etc.\n",
        "\n",
        "TODO: Briefly talk about the methods you anticiapte using to wrangle/pre-process the data and any specific functions that will help you with the wrangling.\n",
        "\n",
        "NOTE: formalized stats are not required, but reporting and displaying mean and SEM of numeric data is required.\n",
        "\n",
        "### Expected Results\n",
        "\n",
        "TODO: Explain how your processing steps will lead to the finding you expect.\n",
        "\n",
        "TODO: Consider and write what it would mean if you find the opposite thing!\n",
        "\n",
        " ### Limitations\n",
        "\n",
        "TODO: Briefly state what problems you anticipate related to data validity and interpretation.\n",
        "\n",
        "### References\n",
        "\n",
        "TODO: cite one supporting paper"
      ],
      "metadata": {
        "id": "Wg1a7t-MUiOy"
      }
    },
    {
      "cell_type": "markdown",
      "source": [
        "# Plot Expected Results"
      ],
      "metadata": {
        "id": "xIOmc0IxzHxX"
      }
    },
    {
      "cell_type": "code",
      "source": [
        "# TODO: import pandas, numpy, matplotlib.pyplot"
      ],
      "metadata": {
        "id": "3AHUky3UxzAh"
      },
      "execution_count": 1,
      "outputs": []
    },
    {
      "cell_type": "code",
      "source": [
        "# TODO: make fake data that idealize what you want to be able to show\n",
        "# Depending on your project, you might make multiple fake dataframes that help\n",
        "# you back out what you will need to find/do with real data\n",
        "\n",
        "\n",
        "# example\n",
        "data = {\n",
        "    'column_name1': [10,10,10,11,12,10],\n",
        "    'column_name2' : ['Y', 'N', 'N', 'Y', 'Y', 'N'],\n",
        "}\n",
        "\n",
        "df = pd.DataFrame(data)\n",
        "\n",
        "df.head()"
      ],
      "metadata": {
        "id": "d-iP2vB9x3pT"
      },
      "execution_count": null,
      "outputs": []
    },
    {
      "cell_type": "code",
      "source": [
        "# TODO: Carry out a pseudo data visualization that show how you think your main\n",
        "# questions and two backed-out preliminary questions would look on figures.\n",
        "\n",
        "# Clear out memory (doesn't impact the visualization, but keeps the computer happy)\n",
        "plt.close('all')\n",
        "\n",
        "# Make a blank canvas\n",
        "plt.figure()\n",
        "plt.suptitle('Expected Results')\n",
        "\n",
        "plt.subplot(1,3,1)\n",
        "plt.title('Preliminary 1')\n",
        "# TODO: make a scatter plot. Assume the title follows the Y vs X convention\n",
        "\n",
        "# TODO: label the y axis\n",
        "\n",
        "# TODO: label the x axis\n",
        "\n",
        "# OPTIONAL: use plt.xticks(rotation=) to make the figure more legible\n",
        "\n",
        "\n",
        "\n",
        "plt.subplot(1,3,2)\n",
        "plt.title('Preliminary 2')\n",
        "# TODO: make a plot\n",
        "\n",
        "# TODO: label the y axis\n",
        "\n",
        "# TODO: label the x axis\n",
        "\n",
        "# OPTIONAL: use plt.xticks(rotation=) to make the figure more legible\n",
        "\n",
        "\n",
        "plt.subplot(1,3,3)\n",
        "plt.title('Main Result')\n",
        "# TODO: make a plot\n",
        "\n",
        "# TODO: label the y axis\n",
        "\n",
        "# TODO: label the x axis\n",
        "\n",
        "# OPTIONAL: use plt.xticks(rotation=) to make the figure more legible\n",
        "\n",
        "\n",
        "\n",
        "\n",
        "\n",
        "# TODO: reveal everything"
      ],
      "metadata": {
        "id": "EWLP5t61NQLe"
      },
      "execution_count": null,
      "outputs": []
    },
    {
      "cell_type": "code",
      "source": [
        "### Please ensure that you have participated on Discord this week.\n",
        "\n",
        "# TODO: Please go to discord and see if your colleagues have posted questions.\n",
        "# If you know the answer to an unanswered question, please respond!\n",
        "# Otherwise, please post a question you have about this lab so far or a short description\n",
        "# of what you found to be the most challenging part so far."
      ],
      "metadata": {
        "id": "dLgLrbWMVQtB"
      },
      "execution_count": null,
      "outputs": []
    }
  ],
  "metadata": {
    "colab": {
      "provenance": [],
      "toc_visible": true
    },
    "kernelspec": {
      "display_name": "Python 3",
      "name": "python3"
    },
    "language_info": {
      "name": "python"
    }
  },
  "nbformat": 4,
  "nbformat_minor": 0
}